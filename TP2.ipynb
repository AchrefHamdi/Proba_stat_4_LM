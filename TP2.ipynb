{
  "nbformat": 4,
  "nbformat_minor": 0,
  "metadata": {
    "colab": {
      "name": "TP2.ipynb",
      "provenance": [],
      "authorship_tag": "ABX9TyNt0EAqUWRHqHA6/wNICbJ4",
      "include_colab_link": true
    },
    "kernelspec": {
      "name": "python3",
      "display_name": "Python 3"
    },
    "language_info": {
      "name": "python"
    }
  },
  "cells": [
    {
      "cell_type": "markdown",
      "metadata": {
        "id": "view-in-github",
        "colab_type": "text"
      },
      "source": [
        "<a href=\"https://colab.research.google.com/github/AchrefHamdi/Proba_stat_4_LM/blob/main/TP2.ipynb\" target=\"_parent\"><img src=\"https://colab.research.google.com/assets/colab-badge.svg\" alt=\"Open In Colab\"/></a>"
      ]
    },
    {
      "cell_type": "code",
      "metadata": {
        "id": "8XdCUtDnMROl"
      },
      "source": [
        "import numpy as np"
      ],
      "execution_count": null,
      "outputs": []
    },
    {
      "cell_type": "code",
      "metadata": {
        "id": "QBxVgef7MYx3"
      },
      "source": [
        "def Roll():\n",
        "    return int(np.random.choice(range(1,7),1))"
      ],
      "execution_count": null,
      "outputs": []
    },
    {
      "cell_type": "code",
      "metadata": {
        "colab": {
          "base_uri": "https://localhost:8080/"
        },
        "id": "fe0K47UdMeTn",
        "outputId": "a0d31370-3f1e-4008-9a7b-072344f76ceb"
      },
      "source": [
        "Roll()"
      ],
      "execution_count": null,
      "outputs": [
        {
          "output_type": "execute_result",
          "data": {
            "text/plain": [
              "6"
            ]
          },
          "metadata": {},
          "execution_count": 3
        }
      ]
    },
    {
      "cell_type": "code",
      "metadata": {
        "colab": {
          "base_uri": "https://localhost:8080/"
        },
        "id": "Lioa5G6nMmvA",
        "outputId": "84033d2b-1ce5-4c6c-ad3c-1bb2a70746a8"
      },
      "source": [
        "A=0\n",
        "NA=0\n",
        "S=10\n",
        "c=0\n",
        "temp=Roll()\n",
        "NA+=1\n",
        "while temp!=6 :\n",
        "   temp=Roll()\n",
        "   NA+=1\n",
        "   print (NA,temp)\n",
        "A=1 \n",
        "print ('Sortie de la prison apres {} coups '.format(NA))\n",
        "while (A!=S) :\n",
        "   temp=Roll()\n",
        "   if temp+A<S:\n",
        "      NA+=1\n",
        "      A+=temp\n",
        "      print (NA,temp,A)\n",
        "   elif temp+A > S :\n",
        "      NA+=1\n",
        "      print(NA,temp,A)\n",
        "   else :\n",
        "      A=S\n",
        "      NA+=1\n",
        "      print (NA,temp,A)      \n",
        "      break"
      ],
      "execution_count": null,
      "outputs": [
        {
          "output_type": "stream",
          "name": "stdout",
          "text": [
            "2 5\n",
            "3 3\n",
            "4 6\n",
            "Sortie de la prison apres 4 coups \n",
            "5 5 6\n",
            "6 4 10\n"
          ]
        }
      ]
    },
    {
      "cell_type": "code",
      "metadata": {
        "id": "zVpY15vrMqYV"
      },
      "source": [
        "def sim(S):\n",
        "    A=0\n",
        "    NA=0\n",
        "    temp=Roll()\n",
        "    NA+=1\n",
        "    while temp!=6 :\n",
        "       temp=Roll()\n",
        "       NA+=1  \n",
        "    A=1 \n",
        "\n",
        "    while (A!=S) :\n",
        "       temp=Roll()\n",
        "       if temp+A<S:\n",
        "        NA+=1\n",
        "        A+=temp\n",
        "   \n",
        "       elif temp+A > S :\n",
        "         NA+=1\n",
        "       else :\n",
        "        A=S\n",
        "        NA+=1      \n",
        "    return NA   \n",
        "    "
      ],
      "execution_count": null,
      "outputs": []
    },
    {
      "cell_type": "code",
      "metadata": {
        "colab": {
          "base_uri": "https://localhost:8080/"
        },
        "id": "aPfm1NktMup9",
        "outputId": "c69fcf54-9a7e-4914-e40d-a99b15d81a0d"
      },
      "source": [
        "sim(20)"
      ],
      "execution_count": null,
      "outputs": [
        {
          "output_type": "execute_result",
          "data": {
            "text/plain": [
              "19"
            ]
          },
          "metadata": {},
          "execution_count": 6
        }
      ]
    },
    {
      "cell_type": "code",
      "metadata": {
        "colab": {
          "base_uri": "https://localhost:8080/"
        },
        "id": "anOBRvLpMzMV",
        "outputId": "a135b762-48b4-495e-9550-ba303a31ac32"
      },
      "source": [
        "L = [sim(30) for i in range (10000)]\n",
        "moy = sum(L) / 10000\n",
        "print ('estimation de la moyenne de x 30 = {}'.format(moy))"
      ],
      "execution_count": null,
      "outputs": [
        {
          "output_type": "stream",
          "name": "stdout",
          "text": [
            "estimation de la moyenne de x 30 = 19.0085\n"
          ]
        }
      ]
    },
    {
      "cell_type": "code",
      "metadata": {
        "id": "zT12IAfrM5_h"
      },
      "source": [
        "import matplotlib.pyplot as plt"
      ],
      "execution_count": null,
      "outputs": []
    },
    {
      "cell_type": "code",
      "metadata": {
        "id": "LR-UrZs0NBWy"
      },
      "source": [
        "x=list(range (10,20))\n",
        "x\n",
        "y=[sum([sim(u) for i in range (50000)]) / 50000 for u in x]"
      ],
      "execution_count": null,
      "outputs": []
    },
    {
      "cell_type": "code",
      "metadata": {
        "id": "S_M109eyNGKQ"
      },
      "source": [
        "plt.plot(x,y,'*r')\n",
        "plt.show()"
      ],
      "execution_count": null,
      "outputs": []
    }
  ]
}