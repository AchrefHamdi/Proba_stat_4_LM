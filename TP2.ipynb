{
  "nbformat": 4,
  "nbformat_minor": 0,
  "metadata": {
    "colab": {
      "name": "TP2.ipynb",
      "provenance": [],
      "authorship_tag": "ABX9TyODfZhYvHuMWNbVGJHR6Opl",
      "include_colab_link": true
    },
    "kernelspec": {
      "name": "python3",
      "display_name": "Python 3"
    },
    "language_info": {
      "name": "python"
    }
  },
  "cells": [
    {
      "cell_type": "markdown",
      "metadata": {
        "id": "view-in-github",
        "colab_type": "text"
      },
      "source": [
        "<a href=\"https://colab.research.google.com/github/AchrefHamdi/Proba_stat_4_LM/blob/main/TP2.ipynb\" target=\"_parent\"><img src=\"https://colab.research.google.com/assets/colab-badge.svg\" alt=\"Open In Colab\"/></a>"
      ]
    },
    {
      "cell_type": "code",
      "metadata": {
        "id": "8XdCUtDnMROl"
      },
      "source": [
        "import numpy as np"
      ],
      "execution_count": 1,
      "outputs": []
    },
    {
      "cell_type": "code",
      "metadata": {
        "id": "QBxVgef7MYx3"
      },
      "source": [
        "def Roll():\n",
        "    return int(np.random.choice(range(1,7),1))"
      ],
      "execution_count": 2,
      "outputs": []
    },
    {
      "cell_type": "code",
      "metadata": {
        "colab": {
          "base_uri": "https://localhost:8080/"
        },
        "id": "fe0K47UdMeTn",
        "outputId": "24fe0d11-cd33-4f7a-c33d-9f11e2d86ac6"
      },
      "source": [
        "Roll()"
      ],
      "execution_count": 3,
      "outputs": [
        {
          "output_type": "execute_result",
          "data": {
            "text/plain": [
              "5"
            ]
          },
          "metadata": {},
          "execution_count": 3
        }
      ]
    },
    {
      "cell_type": "code",
      "metadata": {
        "colab": {
          "base_uri": "https://localhost:8080/"
        },
        "id": "Lioa5G6nMmvA",
        "outputId": "d5e24b86-8f19-4042-81f8-a15a80651744"
      },
      "source": [
        "A=0\n",
        "NA=0\n",
        "S=10\n",
        "c=0\n",
        "temp=Roll()\n",
        "NA+=1\n",
        "while temp!=6 :\n",
        "   temp=Roll()\n",
        "   NA+=1\n",
        "   print (NA,temp)\n",
        "A=1 \n",
        "print ('Sortie de la prison apres {} coups '.format(NA))\n",
        "while (A!=S) :\n",
        "   temp=Roll()\n",
        "   if temp+A<S:\n",
        "      NA+=1\n",
        "      A+=temp\n",
        "      print (NA,temp,A)\n",
        "   elif temp+A > S :\n",
        "      NA+=1\n",
        "      print(NA,temp,A)\n",
        "   else :\n",
        "      A=S\n",
        "      NA+=1\n",
        "      print (NA,temp,A)      \n",
        "      break"
      ],
      "execution_count": 4,
      "outputs": [
        {
          "output_type": "stream",
          "name": "stdout",
          "text": [
            "2 6\n",
            "Sortie de la prison apres 2 coups \n",
            "3 1 2\n",
            "4 3 5\n",
            "5 3 8\n",
            "6 1 9\n",
            "7 1 10\n"
          ]
        }
      ]
    },
    {
      "cell_type": "code",
      "metadata": {
        "id": "zVpY15vrMqYV"
      },
      "source": [
        "def sim(S):\n",
        "    A=0\n",
        "    NA=0\n",
        "    temp=Roll()\n",
        "    NA+=1\n",
        "    while temp!=6 :\n",
        "       temp=Roll()\n",
        "       NA+=1  \n",
        "    A=1 \n",
        "\n",
        "    while (A!=S) :\n",
        "       temp=Roll()\n",
        "       if temp+A<S:\n",
        "        NA+=1\n",
        "        A+=temp\n",
        "   \n",
        "       elif temp+A > S :\n",
        "         NA+=1\n",
        "       else :\n",
        "        A=S\n",
        "        NA+=1      \n",
        "    return NA   \n",
        "    "
      ],
      "execution_count": 5,
      "outputs": []
    },
    {
      "cell_type": "code",
      "metadata": {
        "colab": {
          "base_uri": "https://localhost:8080/"
        },
        "id": "aPfm1NktMup9",
        "outputId": "ea77f5a2-51b7-4072-c568-25dd46beecdf"
      },
      "source": [
        "sim(20)"
      ],
      "execution_count": 6,
      "outputs": [
        {
          "output_type": "execute_result",
          "data": {
            "text/plain": [
              "15"
            ]
          },
          "metadata": {},
          "execution_count": 6
        }
      ]
    },
    {
      "cell_type": "code",
      "metadata": {
        "colab": {
          "base_uri": "https://localhost:8080/"
        },
        "id": "anOBRvLpMzMV",
        "outputId": "55e2b24a-ddf9-4183-c7c4-a6097a7e2a4d"
      },
      "source": [
        "L = [sim(30) for i in range (10000)]\n",
        "moy = sum(L) / 10000\n",
        "print ('estimation de la moyenne de x 30 = {}'.format(moy))"
      ],
      "execution_count": 7,
      "outputs": [
        {
          "output_type": "stream",
          "name": "stdout",
          "text": [
            "estimation de la moyenne de x 30 = 19.0063\n"
          ]
        }
      ]
    },
    {
      "cell_type": "code",
      "metadata": {
        "id": "zT12IAfrM5_h"
      },
      "source": [
        "import matplotlib.pyplot as plt"
      ],
      "execution_count": 8,
      "outputs": []
    },
    {
      "cell_type": "code",
      "metadata": {
        "id": "LR-UrZs0NBWy"
      },
      "source": [
        "x=list(range (10,20))\n",
        "x\n",
        "y=[sum([sim(u) for i in range (50000)]) / 50000 for u in x]"
      ],
      "execution_count": 9,
      "outputs": []
    },
    {
      "cell_type": "code",
      "metadata": {
        "id": "S_M109eyNGKQ",
        "outputId": "6d2d3b00-8b71-4e34-9bbe-00b5483641ac",
        "colab": {
          "base_uri": "https://localhost:8080/",
          "height": 266
        }
      },
      "source": [
        "plt.plot(x,y,'*r')\n",
        "plt.show()"
      ],
      "execution_count": 10,
      "outputs": [
        {
          "output_type": "display_data",
          "data": {
            "image/png": "[encoded data removed]",
            "text/plain": [
              "<Figure size 432x288 with 1 Axes>"
            ]
          },
          "metadata": {
            "needs_background": "light"
          }
        }
      ]
    },
    {
      "cell_type": "code",
      "source": [
        "from scipy import stats\n",
        "import numpy as np\n",
        "slope, intercept, r_value, p_value, std_err = stats.linregress(x,y)"
      ],
      "metadata": {
        "id": "FFcStTcv0M32"
      },
      "execution_count": 11,
      "outputs": []
    },
    {
      "cell_type": "code",
      "source": [
        "slope"
      ],
      "metadata": {
        "id": "cWZVfO3c0OG9",
        "outputId": "129a26ab-2884-47bd-d0c0-58cebad1e59e",
        "colab": {
          "base_uri": "https://localhost:8080/"
        }
      },
      "execution_count": 12,
      "outputs": [
        {
          "output_type": "execute_result",
          "data": {
            "text/plain": [
              "0.2854721212121212"
            ]
          },
          "metadata": {},
          "execution_count": 12
        }
      ]
    },
    {
      "cell_type": "code",
      "source": [
        "intercept"
      ],
      "metadata": {
        "id": "QZMl1_eD0RaJ",
        "outputId": "5eaadf98-73ab-4dfa-e5b7-dea7cfc49fc0",
        "colab": {
          "base_uri": "https://localhost:8080/"
        }
      },
      "execution_count": 13,
      "outputs": [
        {
          "output_type": "execute_result",
          "data": {
            "text/plain": [
              "10.471828242424243"
            ]
          },
          "metadata": {},
          "execution_count": 13
        }
      ]
    },
    {
      "cell_type": "code",
      "source": [
        "yy=[slope*u+intercept for u in x]"
      ],
      "metadata": {
        "id": "RSemOP2K0ZGl"
      },
      "execution_count": 14,
      "outputs": []
    },
    {
      "cell_type": "code",
      "source": [
        "plt.plot(x,y,'*',x,yy,'r-')"
      ],
      "metadata": {
        "id": "G4pRbqpz0b7A",
        "outputId": "42451832-1efe-4a0b-e945-2781d41cbfe8",
        "colab": {
          "base_uri": "https://localhost:8080/",
          "height": 300
        }
      },
      "execution_count": 15,
      "outputs": [
        {
          "output_type": "execute_result",
          "data": {
            "text/plain": [
              "[<matplotlib.lines.Line2D at 0x7f2135a08850>,\n",
              " <matplotlib.lines.Line2D at 0x7f21359b7650>]"
            ]
          },
          "metadata": {},
          "execution_count": 15
        },
        {
          "output_type": "display_data",
          "data": {
            "image/png": "[encoded data removed]",
            "text/plain": [
              "<Figure size 432x288 with 1 Axes>"
            ]
          },
          "metadata": {
            "needs_background": "light"
          }
        }
      ]
    },
    {
      "cell_type": "markdown",
      "source": [
        "# Conclusion \n",
        "E(X_n)~=0.28547*n+10.47182"
      ],
      "metadata": {
        "id": "TEp5CuDB0vHk"
      }
    }
  ]
}